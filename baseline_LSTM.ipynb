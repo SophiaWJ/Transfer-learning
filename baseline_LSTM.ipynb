{
 "cells": [
  {
   "cell_type": "code",
   "execution_count": 2,
   "metadata": {},
   "outputs": [
    {
     "name": "stderr",
     "output_type": "stream",
     "text": [
      "/usr/local/lib/python2.7/site-packages/matplotlib/font_manager.py:273: UserWarning: Matplotlib is building the font cache using fc-list. This may take a moment.\n",
      "  warnings.warn('Matplotlib is building the font cache using fc-list. This may take a moment.')\n",
      "Using TensorFlow backend.\n"
     ]
    }
   ],
   "source": [
    "#reference: https://www.kaggle.com/benjibb/lstm-stock-prediction-20170507?scriptVersionId=1139231\n",
    "import numpy as np\n",
    "import matplotlib.pyplot as plt\n",
    "import pandas as pd\n",
    "from pandas import datetime\n",
    "import math, time\n",
    "import itertools\n",
    "from sklearn import preprocessing\n",
    "import datetime\n",
    "from operator import itemgetter\n",
    "from sklearn.metrics import mean_squared_error\n",
    "from math import sqrt\n",
    "from keras.models import Sequential\n",
    "from keras.layers.core import Dense, Dropout, Activation\n",
    "from keras.layers.recurrent import LSTM\n",
    "from keras.models import load_model\n",
    "import keras\n",
    "import h5py\n",
    "import requests\n",
    "import os"
   ]
  },
  {
   "cell_type": "code",
   "execution_count": 180,
   "metadata": {},
   "outputs": [],
   "source": [
    "def load_data(stock, seq_len):\n",
    "    amount_of_features = len(stock.columns) # 5\n",
    "    data = stock.as_matrix() \n",
    "    sequence_length = seq_len + 1 # index starting from 0\n",
    "    result = []\n",
    "    \n",
    "    for index in range(len(data) - sequence_length): # maxmimum date = lastest date - sequence length\n",
    "        result.append(data[index: index + sequence_length]) # index : index + 22days\n",
    "    \n",
    "    result = np.array(result)\n",
    "    row = round(0.9 * result.shape[0]) # 90% split\n",
    "    train = result[:int(row), :] # 90% date, all features \n",
    "    \n",
    "    x_train = train[:, :-1] \n",
    "    y_train = train[:, -1][:,-1]\n",
    "    \n",
    "    x_test = result[int(row):, :-1] \n",
    "    y_test = result[int(row):, -1][:,-1]\n",
    "\n",
    "    x_train = np.reshape(x_train, (x_train.shape[0], x_train.shape[1], amount_of_features))\n",
    "    x_test = np.reshape(x_test, (x_test.shape[0], x_test.shape[1], amount_of_features))  \n",
    "\n",
    "    return [x_train, y_train, x_test, y_test]"
   ]
  },
  {
   "cell_type": "code",
   "execution_count": null,
   "metadata": {},
   "outputs": [],
   "source": [
    "def hit_ratio(realvalue,predction):\n",
    "    ratio = 0.0\n",
    "    \n",
    "    return ratio"
   ]
  },
  {
   "cell_type": "code",
   "execution_count": 4,
   "metadata": {},
   "outputs": [
    {
     "data": {
      "text/html": [
       "<div>\n",
       "<table border=\"1\" class=\"dataframe\">\n",
       "  <thead>\n",
       "    <tr style=\"text-align: right;\">\n",
       "      <th></th>\n",
       "      <th>symbol</th>\n",
       "      <th>open</th>\n",
       "      <th>low</th>\n",
       "      <th>high</th>\n",
       "      <th>volume</th>\n",
       "      <th>adj close</th>\n",
       "    </tr>\n",
       "    <tr>\n",
       "      <th>date</th>\n",
       "      <th></th>\n",
       "      <th></th>\n",
       "      <th></th>\n",
       "      <th></th>\n",
       "      <th></th>\n",
       "      <th></th>\n",
       "    </tr>\n",
       "  </thead>\n",
       "  <tbody>\n",
       "    <tr>\n",
       "      <th>2016-01-05</th>\n",
       "      <td>WLTW</td>\n",
       "      <td>123.430000</td>\n",
       "      <td>122.309998</td>\n",
       "      <td>126.250000</td>\n",
       "      <td>2163600.0</td>\n",
       "      <td>125.839996</td>\n",
       "    </tr>\n",
       "    <tr>\n",
       "      <th>2016-01-06</th>\n",
       "      <td>WLTW</td>\n",
       "      <td>125.239998</td>\n",
       "      <td>119.940002</td>\n",
       "      <td>125.540001</td>\n",
       "      <td>2386400.0</td>\n",
       "      <td>119.980003</td>\n",
       "    </tr>\n",
       "    <tr>\n",
       "      <th>2016-01-07</th>\n",
       "      <td>WLTW</td>\n",
       "      <td>116.379997</td>\n",
       "      <td>114.930000</td>\n",
       "      <td>119.739998</td>\n",
       "      <td>2489500.0</td>\n",
       "      <td>114.949997</td>\n",
       "    </tr>\n",
       "    <tr>\n",
       "      <th>2016-01-08</th>\n",
       "      <td>WLTW</td>\n",
       "      <td>115.480003</td>\n",
       "      <td>113.500000</td>\n",
       "      <td>117.440002</td>\n",
       "      <td>2006300.0</td>\n",
       "      <td>116.620003</td>\n",
       "    </tr>\n",
       "    <tr>\n",
       "      <th>2016-01-11</th>\n",
       "      <td>WLTW</td>\n",
       "      <td>117.010002</td>\n",
       "      <td>114.089996</td>\n",
       "      <td>117.330002</td>\n",
       "      <td>1408600.0</td>\n",
       "      <td>114.970001</td>\n",
       "    </tr>\n",
       "  </tbody>\n",
       "</table>\n",
       "</div>"
      ],
      "text/plain": [
       "           symbol        open         low        high     volume   adj close\n",
       "date                                                                        \n",
       "2016-01-05   WLTW  123.430000  122.309998  126.250000  2163600.0  125.839996\n",
       "2016-01-06   WLTW  125.239998  119.940002  125.540001  2386400.0  119.980003\n",
       "2016-01-07   WLTW  116.379997  114.930000  119.739998  2489500.0  114.949997\n",
       "2016-01-08   WLTW  115.480003  113.500000  117.440002  2006300.0  116.620003\n",
       "2016-01-11   WLTW  117.010002  114.089996  117.330002  1408600.0  114.970001"
      ]
     },
     "execution_count": 4,
     "metadata": {},
     "output_type": "execute_result"
    }
   ],
   "source": [
    "df = pd.read_csv(\"prices-split-adjusted.csv\", index_col = 0)\n",
    "df[\"adj close\"] = df.close # Moving close to the last column\n",
    "df.drop(['close'], 1, inplace=True) # Moving close to the last column\n",
    "df.head()\n",
    "# print set(df.symbol)"
   ]
  },
  {
   "cell_type": "code",
   "execution_count": 40,
   "metadata": {},
   "outputs": [
    {
     "data": {
      "text/html": [
       "<div>\n",
       "<table border=\"1\" class=\"dataframe\">\n",
       "  <thead>\n",
       "    <tr style=\"text-align: right;\">\n",
       "      <th></th>\n",
       "      <th>open</th>\n",
       "      <th>low</th>\n",
       "      <th>high</th>\n",
       "      <th>volume</th>\n",
       "      <th>adj close</th>\n",
       "    </tr>\n",
       "    <tr>\n",
       "      <th>date</th>\n",
       "      <th></th>\n",
       "      <th></th>\n",
       "      <th></th>\n",
       "      <th></th>\n",
       "      <th></th>\n",
       "    </tr>\n",
       "  </thead>\n",
       "  <tbody>\n",
       "    <tr>\n",
       "      <th>2010-01-04</th>\n",
       "      <td>0.137628</td>\n",
       "      <td>0.142787</td>\n",
       "      <td>0.132288</td>\n",
       "      <td>0.060533</td>\n",
       "      <td>0.145591</td>\n",
       "    </tr>\n",
       "    <tr>\n",
       "      <th>2010-01-05</th>\n",
       "      <td>0.144461</td>\n",
       "      <td>0.145746</td>\n",
       "      <td>0.133023</td>\n",
       "      <td>0.039480</td>\n",
       "      <td>0.148740</td>\n",
       "    </tr>\n",
       "    <tr>\n",
       "      <th>2010-01-06</th>\n",
       "      <td>0.143241</td>\n",
       "      <td>0.147472</td>\n",
       "      <td>0.134738</td>\n",
       "      <td>0.059818</td>\n",
       "      <td>0.147287</td>\n",
       "    </tr>\n",
       "    <tr>\n",
       "      <th>2010-01-07</th>\n",
       "      <td>0.134456</td>\n",
       "      <td>0.135142</td>\n",
       "      <td>0.124939</td>\n",
       "      <td>0.126378</td>\n",
       "      <td>0.135901</td>\n",
       "    </tr>\n",
       "    <tr>\n",
       "      <th>2010-01-08</th>\n",
       "      <td>0.131284</td>\n",
       "      <td>0.136375</td>\n",
       "      <td>0.121509</td>\n",
       "      <td>0.055702</td>\n",
       "      <td>0.135901</td>\n",
       "    </tr>\n",
       "  </tbody>\n",
       "</table>\n",
       "</div>"
      ],
      "text/plain": [
       "                open       low      high    volume  adj close\n",
       "date                                                         \n",
       "2010-01-04  0.137628  0.142787  0.132288  0.060533   0.145591\n",
       "2010-01-05  0.144461  0.145746  0.133023  0.039480   0.148740\n",
       "2010-01-06  0.143241  0.147472  0.134738  0.059818   0.147287\n",
       "2010-01-07  0.134456  0.135142  0.124939  0.126378   0.135901\n",
       "2010-01-08  0.131284  0.136375  0.121509  0.055702   0.135901"
      ]
     },
     "execution_count": 40,
     "metadata": {},
     "output_type": "execute_result"
    }
   ],
   "source": [
    "from sklearn import preprocessing\n",
    "def normalize_data(df):\n",
    "    min_max_scaler = preprocessing.MinMaxScaler()\n",
    "    df['open'] = min_max_scaler.fit_transform(df.open.values.reshape(-1,1))\n",
    "    df['high'] = min_max_scaler.fit_transform(df.high.values.reshape(-1,1))\n",
    "    df['low'] = min_max_scaler.fit_transform(df.low.values.reshape(-1,1))\n",
    "    df['volume'] = min_max_scaler.fit_transform(df.volume.values.reshape(-1,1))\n",
    "    df['adj close'] = min_max_scaler.fit_transform(df['adj close'].values.reshape(-1,1))\n",
    "    return df\n",
    "df = normalize_data(df)\n",
    "df.head()"
   ]
  },
  {
   "cell_type": "code",
   "execution_count": 193,
   "metadata": {},
   "outputs": [
    {
     "name": "stderr",
     "output_type": "stream",
     "text": [
      "/usr/local/lib/python2.7/site-packages/ipykernel_launcher.py:5: SettingWithCopyWarning: \n",
      "A value is trying to be set on a copy of a slice from a DataFrame\n",
      "\n",
      "See the caveats in the documentation: http://pandas.pydata.org/pandas-docs/stable/indexing.html#indexing-view-versus-copy\n",
      "  \"\"\"\n"
     ]
    },
    {
     "name": "stdout",
     "output_type": "stream",
     "text": [
      "                 open        low       high       volume  adj close\n",
      "date                                                               \n",
      "2010-01-04  30.490000  30.340000  30.642857  123432400.0  30.572857\n",
      "2010-01-05  30.657143  30.464285  30.798571  150476200.0  30.625713\n",
      "2010-01-06  30.625713  30.107143  30.747143  138040000.0  30.138571\n",
      "2010-01-07  30.250000  29.864286  30.285715  119282800.0  30.082857\n",
      "2010-01-08  30.042856  29.865715  30.285715  111902700.0  30.282858\n",
      "                  open         low        high      volume   adj close\n",
      "date                                                                  \n",
      "2010-01-04  312.304948  310.955001  313.580158   3927000.0  312.205308\n",
      "2010-01-05  312.419511  309.610028  312.748278   6031900.0  310.830459\n",
      "2010-01-06  311.761979  302.048370  311.761979   7987100.0  302.994813\n",
      "2010-01-07  303.562685  295.218951  303.861575  12876600.0  295.941242\n",
      "2010-01-08  294.895159  293.455551  300.499172   9483900.0  299.886470\n"
     ]
    },
    {
     "name": "stderr",
     "output_type": "stream",
     "text": [
      "/usr/local/lib/python2.7/site-packages/ipykernel_launcher.py:8: SettingWithCopyWarning: \n",
      "A value is trying to be set on a copy of a slice from a DataFrame\n",
      "\n",
      "See the caveats in the documentation: http://pandas.pydata.org/pandas-docs/stable/indexing.html#indexing-view-versus-copy\n",
      "  \n"
     ]
    }
   ],
   "source": [
    "symbols = list(set(df.symbol))\n",
    "stock_interest = 'AAPL'\n",
    "len(symbols)\n",
    "df3 = df[df.symbol == stock_interest]\n",
    "df3.drop(['symbol'],1,inplace=True)\n",
    "print df3.head()\n",
    "df4 = df[df.symbol == 'GOOG']\n",
    "df4.drop(['symbol'],1,inplace=True)\n",
    "print df4.head()"
   ]
  },
  {
   "cell_type": "code",
   "execution_count": 196,
   "metadata": {},
   "outputs": [
    {
     "name": "stderr",
     "output_type": "stream",
     "text": [
      "/usr/local/lib/python2.7/site-packages/ipykernel_launcher.py:5: SettingWithCopyWarning: \n",
      "A value is trying to be set on a copy of a slice from a DataFrame\n",
      "\n",
      "See the caveats in the documentation: http://pandas.pydata.org/pandas-docs/stable/indexing.html#indexing-view-versus-copy\n",
      "  \"\"\"\n"
     ]
    },
    {
     "name": "stdout",
     "output_type": "stream",
     "text": [
      "                  open         low        high      volume   adj close\n",
      "date                                                                  \n",
      "2010-01-04  312.304948  310.955001  313.580158   3927000.0  312.205308\n",
      "2010-01-05  312.419511  309.610028  312.748278   6031900.0  310.830459\n",
      "2010-01-06  311.761979  302.048370  311.761979   7987100.0  302.994813\n",
      "2010-01-07  303.562685  295.218951  303.861575  12876600.0  295.941242\n",
      "2010-01-08  294.895159  293.455551  300.499172   9483900.0  299.886470\n",
      "                  open         low        high      volume   adj close\n",
      "date                                                                  \n",
      "2010-01-04  312.304948  310.955001  313.580158   3927000.0  312.205308\n",
      "2010-01-05  312.419511  309.610028  312.748278   6031900.0  310.830459\n",
      "2010-01-06  311.761979  302.048370  311.761979   7987100.0  302.994813\n",
      "2010-01-07  303.562685  295.218951  303.861575  12876600.0  295.941242\n",
      "2010-01-08  294.895159  293.455551  300.499172   9483900.0  299.886470\n"
     ]
    }
   ],
   "source": [
    "symbols = list(set(df.symbol))\n",
    "stock_interest = 'GOOG'\n",
    "len(symbols)\n",
    "df2 = df[df.symbol == stock_interest]\n",
    "df2.drop(['symbol'],1,inplace=True)\n",
    "print df2.head()\n",
    "df = df[df.symbol == stock_interest]\n",
    "df.drop(['symbol'],1,inplace=True)\n",
    "print df.head()"
   ]
  },
  {
   "cell_type": "code",
   "execution_count": 197,
   "metadata": {},
   "outputs": [],
   "source": [
    "# df3 = normalize_data(df3)\n",
    "# df3.head()\n",
    "# df4 = normalize_data(df4)\n",
    "# df4.head()"
   ]
  },
  {
   "cell_type": "code",
   "execution_count": 198,
   "metadata": {},
   "outputs": [
    {
     "name": "stdout",
     "output_type": "stream",
     "text": [
      "(1762, 5)\n",
      "(1762, 5)\n"
     ]
    },
    {
     "data": {
      "text/html": [
       "<div>\n",
       "<table border=\"1\" class=\"dataframe\">\n",
       "  <thead>\n",
       "    <tr style=\"text-align: right;\">\n",
       "      <th></th>\n",
       "      <th>open</th>\n",
       "      <th>low</th>\n",
       "      <th>high</th>\n",
       "      <th>volume</th>\n",
       "      <th>adj close</th>\n",
       "    </tr>\n",
       "    <tr>\n",
       "      <th>date</th>\n",
       "      <th></th>\n",
       "      <th></th>\n",
       "      <th></th>\n",
       "      <th></th>\n",
       "      <th></th>\n",
       "    </tr>\n",
       "  </thead>\n",
       "  <tbody>\n",
       "    <tr>\n",
       "      <th>2010-01-04</th>\n",
       "      <td>0.157047</td>\n",
       "      <td>0.161167</td>\n",
       "      <td>0.156390</td>\n",
       "      <td>0.131722</td>\n",
       "      <td>0.159399</td>\n",
       "    </tr>\n",
       "    <tr>\n",
       "      <th>2010-01-05</th>\n",
       "      <td>0.157238</td>\n",
       "      <td>0.158884</td>\n",
       "      <td>0.154995</td>\n",
       "      <td>0.202469</td>\n",
       "      <td>0.157092</td>\n",
       "    </tr>\n",
       "    <tr>\n",
       "      <th>2010-01-06</th>\n",
       "      <td>0.156140</td>\n",
       "      <td>0.146049</td>\n",
       "      <td>0.153341</td>\n",
       "      <td>0.268184</td>\n",
       "      <td>0.143942</td>\n",
       "    </tr>\n",
       "    <tr>\n",
       "      <th>2010-01-07</th>\n",
       "      <td>0.142436</td>\n",
       "      <td>0.134457</td>\n",
       "      <td>0.140094</td>\n",
       "      <td>0.432522</td>\n",
       "      <td>0.132105</td>\n",
       "    </tr>\n",
       "    <tr>\n",
       "      <th>2010-01-08</th>\n",
       "      <td>0.127950</td>\n",
       "      <td>0.131464</td>\n",
       "      <td>0.134455</td>\n",
       "      <td>0.318492</td>\n",
       "      <td>0.138726</td>\n",
       "    </tr>\n",
       "  </tbody>\n",
       "</table>\n",
       "</div>"
      ],
      "text/plain": [
       "                open       low      high    volume  adj close\n",
       "date                                                         \n",
       "2010-01-04  0.157047  0.161167  0.156390  0.131722   0.159399\n",
       "2010-01-05  0.157238  0.158884  0.154995  0.202469   0.157092\n",
       "2010-01-06  0.156140  0.146049  0.153341  0.268184   0.143942\n",
       "2010-01-07  0.142436  0.134457  0.140094  0.432522   0.132105\n",
       "2010-01-08  0.127950  0.131464  0.134455  0.318492   0.138726"
      ]
     },
     "execution_count": 198,
     "metadata": {},
     "output_type": "execute_result"
    }
   ],
   "source": [
    "print df.shape\n",
    "print df2.shape\n",
    "df = normalize_data(df)\n",
    "df.head()\n",
    "df2 = normalize_data(df2)\n",
    "df2.head()"
   ]
  },
  {
   "cell_type": "code",
   "execution_count": 181,
   "metadata": {},
   "outputs": [],
   "source": [
    "def build_model(layers):\n",
    "    d = 0.3\n",
    "    model = Sequential()\n",
    "    \n",
    "    model.add(LSTM(256, input_shape=(layers[1], layers[0]), return_sequences=True))\n",
    "    model.add(Dropout(d))\n",
    "        \n",
    "    model.add(LSTM(256, input_shape=(layers[1], layers[0]), return_sequences=False))\n",
    "    model.add(Dropout(d))\n",
    "        \n",
    "    model.add(Dense(32,kernel_initializer=\"uniform\",activation='relu'))        \n",
    "    model.add(Dense(1,kernel_initializer=\"uniform\",activation='linear'))\n",
    "    \n",
    "    # adam = keras.optimizers.Adam(decay=0.2)\n",
    "        \n",
    "    start = time.time()\n",
    "    model.compile(loss='mse',optimizer='adam', metrics=['accuracy'])\n",
    "    print(\"Compilation Time : \", time.time() - start)\n",
    "    return model"
   ]
  },
  {
   "cell_type": "code",
   "execution_count": 199,
   "metadata": {},
   "outputs": [
    {
     "name": "stdout",
     "output_type": "stream",
     "text": [
      "(array([[ 0.15704696,  0.16116746,  0.15638998,  0.1317225 ,  0.15939908],\n",
      "       [ 0.15723843,  0.15888449,  0.15499506,  0.20246902,  0.15709185],\n",
      "       [ 0.15613951,  0.14604929,  0.15334121,  0.26818406,  0.14394234],\n",
      "       [ 0.14243617,  0.13445699,  0.14009362,  0.43252209,  0.13210528],\n",
      "       [ 0.12795029,  0.13146379,  0.13445546,  0.3184921 ,  0.13872603],\n",
      "       [ 0.13832355,  0.1356323 ,  0.13546617,  0.48640628,  0.1379653 ],\n",
      "       [ 0.13265404,  0.13052526,  0.13020388,  0.3271972 ,  0.12907917],\n",
      "       [ 0.11503787,  0.1186032 ,  0.12203482,  0.43807453,  0.12624527],\n",
      "       [ 0.12120685,  0.12613696,  0.12689613,  0.2858228 ,  0.12855249],\n",
      "       [ 0.12906589,  0.12210374,  0.12636158,  0.36641044,  0.12031836],\n",
      "       [ 0.11895908,  0.12062405,  0.12373877,  0.29099208,  0.12668832],\n",
      "       [ 0.12293853,  0.11977851,  0.12003013,  0.21906583,  0.12066114],\n",
      "       [ 0.12082392,  0.1172081 ,  0.12073176,  0.42532947,  0.1228095 ],\n",
      "       [ 0.10505596,  0.0855935 ,  0.10718348,  0.45857351,  0.09524822],\n",
      "       [ 0.09014547,  0.08614311,  0.08987641,  0.29795279,  0.08688037],\n",
      "       [ 0.08296912,  0.08680264,  0.08964255,  0.29361033,  0.08890336],\n",
      "       [ 0.08571648,  0.08597403,  0.08801372,  0.26721945,  0.08863587],\n",
      "       [ 0.08839717,  0.08199153,  0.08747078,  0.21760714,  0.08210705],\n",
      "       [ 0.08340204,  0.0777723 ,  0.08245074,  0.27910072,  0.07847068],\n",
      "       [ 0.08016357,  0.08173786,  0.07812399,  0.15159969,  0.0810454 ],\n",
      "       [ 0.08046326,  0.07946339,  0.07741402,  0.27611276,  0.07945711],\n",
      "       [ 0.07522667,  0.07998762,  0.08337794,  0.20208586,  0.08756581]]), 0.075829082013687488)\n"
     ]
    }
   ],
   "source": [
    "window = 22\n",
    "X_train, y_train, X_test, y_test = load_data(df2, window)\n",
    "print (X_train[0], y_train[0])"
   ]
  },
  {
   "cell_type": "code",
   "execution_count": 200,
   "metadata": {},
   "outputs": [
    {
     "name": "stdout",
     "output_type": "stream",
     "text": [
      "('Compilation Time : ', 0.0449678897857666)\n",
      "Train on 1408 samples, validate on 157 samples\n",
      "Epoch 1/90\n",
      "1408/1408 [==============================] - 8s 6ms/step - loss: 0.1278 - acc: 7.1023e-04 - val_loss: 0.4896 - val_acc: 0.0000e+00\n",
      "Epoch 2/90\n",
      "1408/1408 [==============================] - 5s 4ms/step - loss: 0.0560 - acc: 7.1023e-04 - val_loss: 0.0409 - val_acc: 0.0000e+00\n",
      "Epoch 3/90\n",
      "1408/1408 [==============================] - 5s 4ms/step - loss: 0.0338 - acc: 7.1023e-04 - val_loss: 0.1247 - val_acc: 0.0000e+00\n",
      "Epoch 4/90\n",
      "1408/1408 [==============================] - 6s 4ms/step - loss: 0.0141 - acc: 7.1023e-04 - val_loss: 0.1891 - val_acc: 0.0000e+00\n",
      "Epoch 5/90\n",
      "1408/1408 [==============================] - 6s 4ms/step - loss: 0.0162 - acc: 7.1023e-04 - val_loss: 0.0959 - val_acc: 0.0000e+00\n",
      "Epoch 6/90\n",
      "1408/1408 [==============================] - 6s 4ms/step - loss: 0.0056 - acc: 7.1023e-04 - val_loss: 0.0359 - val_acc: 0.0000e+00\n",
      "Epoch 7/90\n",
      "1408/1408 [==============================] - 6s 4ms/step - loss: 0.0079 - acc: 7.1023e-04 - val_loss: 0.0557 - val_acc: 0.0000e+00\n",
      "Epoch 8/90\n",
      "1408/1408 [==============================] - 6s 4ms/step - loss: 0.0033 - acc: 7.1023e-04 - val_loss: 0.0796 - val_acc: 0.0000e+00\n",
      "Epoch 9/90\n",
      "1408/1408 [==============================] - 6s 4ms/step - loss: 0.0054 - acc: 7.1023e-04 - val_loss: 0.0523 - val_acc: 0.0000e+00\n",
      "Epoch 10/90\n",
      "1408/1408 [==============================] - 6s 4ms/step - loss: 0.0028 - acc: 7.1023e-04 - val_loss: 0.0285 - val_acc: 0.0000e+00\n",
      "Epoch 11/90\n",
      "1408/1408 [==============================] - 6s 4ms/step - loss: 0.0038 - acc: 7.1023e-04 - val_loss: 0.0387 - val_acc: 0.0000e+00\n",
      "Epoch 12/90\n",
      "1408/1408 [==============================] - 6s 4ms/step - loss: 0.0022 - acc: 7.1023e-04 - val_loss: 0.0583 - val_acc: 0.0000e+00\n",
      "Epoch 13/90\n",
      "1408/1408 [==============================] - 6s 4ms/step - loss: 0.0027 - acc: 7.1023e-04 - val_loss: 0.0507 - val_acc: 0.0000e+00\n",
      "Epoch 14/90\n",
      "1408/1408 [==============================] - 6s 4ms/step - loss: 0.0018 - acc: 7.1023e-04 - val_loss: 0.0357 - val_acc: 0.0000e+00\n",
      "Epoch 15/90\n",
      "1408/1408 [==============================] - 6s 4ms/step - loss: 0.0022 - acc: 7.1023e-04 - val_loss: 0.0393 - val_acc: 0.0000e+00\n",
      "Epoch 16/90\n",
      "1408/1408 [==============================] - 6s 4ms/step - loss: 0.0016 - acc: 7.1023e-04 - val_loss: 0.0433 - val_acc: 0.0000e+00\n",
      "Epoch 17/90\n",
      "1408/1408 [==============================] - 6s 4ms/step - loss: 0.0016 - acc: 7.1023e-04 - val_loss: 0.0313 - val_acc: 0.0000e+00\n",
      "Epoch 18/90\n",
      "1408/1408 [==============================] - 6s 4ms/step - loss: 0.0014 - acc: 7.1023e-04 - val_loss: 0.0244 - val_acc: 0.0000e+00\n",
      "Epoch 19/90\n",
      "1408/1408 [==============================] - 6s 4ms/step - loss: 0.0015 - acc: 7.1023e-04 - val_loss: 0.0272 - val_acc: 0.0000e+00\n",
      "Epoch 20/90\n",
      "1408/1408 [==============================] - 6s 4ms/step - loss: 0.0014 - acc: 7.1023e-04 - val_loss: 0.0222 - val_acc: 0.0000e+00\n",
      "Epoch 21/90\n",
      "1408/1408 [==============================] - 6s 4ms/step - loss: 0.0013 - acc: 7.1023e-04 - val_loss: 0.0178 - val_acc: 0.0000e+00\n",
      "Epoch 22/90\n",
      "1408/1408 [==============================] - 6s 4ms/step - loss: 0.0013 - acc: 7.1023e-04 - val_loss: 0.0229 - val_acc: 0.0000e+00\n",
      "Epoch 23/90\n",
      "1408/1408 [==============================] - 6s 4ms/step - loss: 0.0014 - acc: 7.1023e-04 - val_loss: 0.0189 - val_acc: 0.0000e+00\n",
      "Epoch 24/90\n",
      "1408/1408 [==============================] - 6s 4ms/step - loss: 0.0014 - acc: 7.1023e-04 - val_loss: 0.0179 - val_acc: 0.0000e+00\n",
      "Epoch 25/90\n",
      "1408/1408 [==============================] - 6s 4ms/step - loss: 0.0014 - acc: 7.1023e-04 - val_loss: 0.0208 - val_acc: 0.0000e+00\n",
      "Epoch 26/90\n",
      "1408/1408 [==============================] - 6s 4ms/step - loss: 0.0013 - acc: 7.1023e-04 - val_loss: 0.0164 - val_acc: 0.0000e+00\n",
      "Epoch 27/90\n",
      "1408/1408 [==============================] - 6s 4ms/step - loss: 0.0013 - acc: 7.1023e-04 - val_loss: 0.0165 - val_acc: 0.0000e+00\n",
      "Epoch 28/90\n",
      "1408/1408 [==============================] - 6s 4ms/step - loss: 0.0012 - acc: 7.1023e-04 - val_loss: 0.0160 - val_acc: 0.0000e+00\n",
      "Epoch 29/90\n",
      "1408/1408 [==============================] - 6s 4ms/step - loss: 0.0012 - acc: 7.1023e-04 - val_loss: 0.0137 - val_acc: 0.0000e+00\n",
      "Epoch 30/90\n",
      "1408/1408 [==============================] - 6s 4ms/step - loss: 0.0012 - acc: 7.1023e-04 - val_loss: 0.0158 - val_acc: 0.0000e+00\n",
      "Epoch 31/90\n",
      "1408/1408 [==============================] - 6s 4ms/step - loss: 0.0013 - acc: 7.1023e-04 - val_loss: 0.0136 - val_acc: 0.0000e+00\n",
      "Epoch 32/90\n",
      "1408/1408 [==============================] - 6s 4ms/step - loss: 0.0013 - acc: 7.1023e-04 - val_loss: 0.0142 - val_acc: 0.0000e+00\n",
      "Epoch 33/90\n",
      "1408/1408 [==============================] - 6s 4ms/step - loss: 0.0012 - acc: 7.1023e-04 - val_loss: 0.0150 - val_acc: 0.0000e+00\n",
      "Epoch 34/90\n",
      "1408/1408 [==============================] - 6s 4ms/step - loss: 0.0012 - acc: 7.1023e-04 - val_loss: 0.0130 - val_acc: 0.0000e+00\n",
      "Epoch 35/90\n",
      "1408/1408 [==============================] - 6s 4ms/step - loss: 0.0012 - acc: 7.1023e-04 - val_loss: 0.0158 - val_acc: 0.0000e+00\n",
      "Epoch 36/90\n",
      "1408/1408 [==============================] - 6s 4ms/step - loss: 0.0012 - acc: 7.1023e-04 - val_loss: 0.0129 - val_acc: 0.0000e+00\n",
      "Epoch 37/90\n",
      "1408/1408 [==============================] - 6s 4ms/step - loss: 0.0012 - acc: 7.1023e-04 - val_loss: 0.0144 - val_acc: 0.0000e+00\n",
      "Epoch 38/90\n",
      "1408/1408 [==============================] - 6s 4ms/step - loss: 0.0013 - acc: 7.1023e-04 - val_loss: 0.0133 - val_acc: 0.0000e+00\n",
      "Epoch 39/90\n",
      "1408/1408 [==============================] - 6s 4ms/step - loss: 0.0012 - acc: 7.1023e-04 - val_loss: 0.0117 - val_acc: 0.0000e+00\n",
      "Epoch 40/90\n",
      "1408/1408 [==============================] - 6s 4ms/step - loss: 0.0012 - acc: 7.1023e-04 - val_loss: 0.0132 - val_acc: 0.0000e+00\n",
      "Epoch 41/90\n",
      "1408/1408 [==============================] - 7s 5ms/step - loss: 0.0012 - acc: 7.1023e-04 - val_loss: 0.0120 - val_acc: 0.0000e+00\n",
      "Epoch 42/90\n",
      "1408/1408 [==============================] - 6s 4ms/step - loss: 0.0012 - acc: 7.1023e-04 - val_loss: 0.0122 - val_acc: 0.0000e+00\n",
      "Epoch 43/90\n",
      "1408/1408 [==============================] - 10s 7ms/step - loss: 0.0011 - acc: 7.1023e-04 - val_loss: 0.0111 - val_acc: 0.0000e+00\n",
      "Epoch 44/90\n",
      "1408/1408 [==============================] - 9s 6ms/step - loss: 0.0011 - acc: 7.1023e-04 - val_loss: 0.0121 - val_acc: 0.0000e+00\n",
      "Epoch 45/90\n",
      "1408/1408 [==============================] - 9s 6ms/step - loss: 0.0011 - acc: 7.1023e-04 - val_loss: 0.0111 - val_acc: 0.0000e+00\n",
      "Epoch 46/90\n",
      "1408/1408 [==============================] - 8s 5ms/step - loss: 0.0011 - acc: 7.1023e-04 - val_loss: 0.0112 - val_acc: 0.0000e+00\n",
      "Epoch 47/90\n",
      "1408/1408 [==============================] - 6s 4ms/step - loss: 0.0011 - acc: 7.1023e-04 - val_loss: 0.0100 - val_acc: 0.0000e+00\n",
      "Epoch 48/90\n",
      "1408/1408 [==============================] - 8s 5ms/step - loss: 0.0011 - acc: 7.1023e-04 - val_loss: 0.0103 - val_acc: 0.0000e+00\n",
      "Epoch 49/90\n",
      "1408/1408 [==============================] - 9s 7ms/step - loss: 0.0011 - acc: 7.1023e-04 - val_loss: 0.0092 - val_acc: 0.0000e+00\n",
      "Epoch 50/90\n",
      "1408/1408 [==============================] - 9s 6ms/step - loss: 0.0011 - acc: 7.1023e-04 - val_loss: 0.0107 - val_acc: 0.0000e+00\n",
      "Epoch 51/90\n",
      "1408/1408 [==============================] - 10s 7ms/step - loss: 0.0011 - acc: 7.1023e-04 - val_loss: 0.0085 - val_acc: 0.0000e+00\n",
      "Epoch 52/90\n",
      "1408/1408 [==============================] - 10s 7ms/step - loss: 0.0011 - acc: 7.1023e-04 - val_loss: 0.0098 - val_acc: 0.0000e+00\n",
      "Epoch 53/90\n",
      "1408/1408 [==============================] - 11s 8ms/step - loss: 0.0011 - acc: 7.1023e-04 - val_loss: 0.0077 - val_acc: 0.0000e+00\n",
      "Epoch 54/90\n",
      "1408/1408 [==============================] - 9s 7ms/step - loss: 0.0011 - acc: 7.1023e-04 - val_loss: 0.0087 - val_acc: 0.0000e+00\n",
      "Epoch 55/90\n",
      "1408/1408 [==============================] - 10s 7ms/step - loss: 0.0011 - acc: 7.1023e-04 - val_loss: 0.0073 - val_acc: 0.0000e+00\n",
      "Epoch 56/90\n",
      "1408/1408 [==============================] - 12s 8ms/step - loss: 0.0011 - acc: 7.1023e-04 - val_loss: 0.0089 - val_acc: 0.0000e+00\n",
      "Epoch 57/90\n",
      "1408/1408 [==============================] - 11s 8ms/step - loss: 0.0011 - acc: 7.1023e-04 - val_loss: 0.0073 - val_acc: 0.0000e+00\n",
      "Epoch 58/90\n",
      "1408/1408 [==============================] - 9s 6ms/step - loss: 0.0011 - acc: 7.1023e-04 - val_loss: 0.0082 - val_acc: 0.0000e+00\n",
      "Epoch 59/90\n",
      "1408/1408 [==============================] - 8s 6ms/step - loss: 0.0010 - acc: 7.1023e-04 - val_loss: 0.0074 - val_acc: 0.0000e+00\n",
      "Epoch 60/90\n",
      "1408/1408 [==============================] - 8s 5ms/step - loss: 0.0011 - acc: 7.1023e-04 - val_loss: 0.0068 - val_acc: 0.0000e+00\n",
      "Epoch 61/90\n",
      "1408/1408 [==============================] - 7s 5ms/step - loss: 9.6760e-04 - acc: 7.1023e-04 - val_loss: 0.0088 - val_acc: 0.0000e+00\n",
      "Epoch 62/90\n",
      "1408/1408 [==============================] - 7s 5ms/step - loss: 9.7029e-04 - acc: 7.1023e-04 - val_loss: 0.0060 - val_acc: 0.0000e+00\n",
      "Epoch 63/90\n",
      "1408/1408 [==============================] - 7s 5ms/step - loss: 9.6787e-04 - acc: 7.1023e-04 - val_loss: 0.0083 - val_acc: 0.0000e+00\n",
      "Epoch 64/90\n",
      "1408/1408 [==============================] - 7s 5ms/step - loss: 0.0010 - acc: 7.1023e-04 - val_loss: 0.0070 - val_acc: 0.0000e+00\n",
      "Epoch 65/90\n",
      "1408/1408 [==============================] - 7s 5ms/step - loss: 9.8905e-04 - acc: 7.1023e-04 - val_loss: 0.0052 - val_acc: 0.0000e+00\n",
      "Epoch 66/90\n",
      "1408/1408 [==============================] - 7s 5ms/step - loss: 0.0011 - acc: 7.1023e-04 - val_loss: 0.0087 - val_acc: 0.0000e+00\n",
      "Epoch 67/90\n",
      "1408/1408 [==============================] - 7s 5ms/step - loss: 0.0010 - acc: 7.1023e-04 - val_loss: 0.0074 - val_acc: 0.0000e+00\n",
      "Epoch 68/90\n",
      "1408/1408 [==============================] - 7s 5ms/step - loss: 9.8836e-04 - acc: 7.1023e-04 - val_loss: 0.0064 - val_acc: 0.0000e+00\n",
      "Epoch 69/90\n",
      "1408/1408 [==============================] - 7s 5ms/step - loss: 9.9280e-04 - acc: 7.1023e-04 - val_loss: 0.0075 - val_acc: 0.0000e+00\n",
      "Epoch 70/90\n",
      "1408/1408 [==============================] - 7s 5ms/step - loss: 9.4168e-04 - acc: 7.1023e-04 - val_loss: 0.0052 - val_acc: 0.0000e+00\n",
      "Epoch 71/90\n",
      "1408/1408 [==============================] - 8s 5ms/step - loss: 0.0010 - acc: 7.1023e-04 - val_loss: 0.0056 - val_acc: 0.0000e+00\n",
      "Epoch 72/90\n",
      "1408/1408 [==============================] - 9s 7ms/step - loss: 0.0010 - acc: 7.1023e-04 - val_loss: 0.0105 - val_acc: 0.0000e+00\n",
      "Epoch 73/90\n",
      "1408/1408 [==============================] - 9s 7ms/step - loss: 0.0011 - acc: 7.1023e-04 - val_loss: 0.0094 - val_acc: 0.0000e+00\n",
      "Epoch 74/90\n",
      "1408/1408 [==============================] - 10s 7ms/step - loss: 9.7870e-04 - acc: 7.1023e-04 - val_loss: 0.0070 - val_acc: 0.0000e+00\n",
      "Epoch 75/90\n",
      "1408/1408 [==============================] - 7s 5ms/step - loss: 9.1392e-04 - acc: 7.1023e-04 - val_loss: 0.0056 - val_acc: 0.0000e+00\n",
      "Epoch 76/90\n",
      "1408/1408 [==============================] - 7s 5ms/step - loss: 9.6697e-04 - acc: 7.1023e-04 - val_loss: 0.0055 - val_acc: 0.0000e+00\n",
      "Epoch 77/90\n",
      "1408/1408 [==============================] - 7s 5ms/step - loss: 9.2317e-04 - acc: 7.1023e-04 - val_loss: 0.0096 - val_acc: 0.0000e+00\n",
      "Epoch 78/90\n",
      "1408/1408 [==============================] - 7s 5ms/step - loss: 9.2609e-04 - acc: 7.1023e-04 - val_loss: 0.0064 - val_acc: 0.0000e+00\n",
      "Epoch 79/90\n",
      "1408/1408 [==============================] - 7s 5ms/step - loss: 9.1632e-04 - acc: 7.1023e-04 - val_loss: 0.0053 - val_acc: 0.0000e+00\n",
      "Epoch 80/90\n",
      "1408/1408 [==============================] - 7s 5ms/step - loss: 9.1855e-04 - acc: 7.1023e-04 - val_loss: 0.0063 - val_acc: 0.0000e+00\n",
      "Epoch 81/90\n",
      "1408/1408 [==============================] - 7s 5ms/step - loss: 8.6464e-04 - acc: 7.1023e-04 - val_loss: 0.0079 - val_acc: 0.0000e+00\n",
      "Epoch 82/90\n",
      "1408/1408 [==============================] - 7s 5ms/step - loss: 8.6687e-04 - acc: 7.1023e-04 - val_loss: 0.0074 - val_acc: 0.0000e+00\n",
      "Epoch 83/90\n",
      "1408/1408 [==============================] - 7s 5ms/step - loss: 9.6521e-04 - acc: 7.1023e-04 - val_loss: 0.0055 - val_acc: 0.0000e+00\n",
      "Epoch 84/90\n",
      "1408/1408 [==============================] - 7s 5ms/step - loss: 8.8975e-04 - acc: 7.1023e-04 - val_loss: 0.0044 - val_acc: 0.0000e+00\n",
      "Epoch 85/90\n",
      "1408/1408 [==============================] - 7s 5ms/step - loss: 8.9222e-04 - acc: 7.1023e-04 - val_loss: 0.0051 - val_acc: 0.0000e+00\n",
      "Epoch 86/90\n",
      "1408/1408 [==============================] - 8s 6ms/step - loss: 8.6740e-04 - acc: 7.1023e-04 - val_loss: 0.0077 - val_acc: 0.0000e+00\n",
      "Epoch 87/90\n",
      "1408/1408 [==============================] - 8s 6ms/step - loss: 9.2033e-04 - acc: 7.1023e-04 - val_loss: 0.0115 - val_acc: 0.0000e+00\n",
      "Epoch 88/90\n",
      "1408/1408 [==============================] - 7s 5ms/step - loss: 0.0010 - acc: 7.1023e-04 - val_loss: 0.0051 - val_acc: 0.0000e+00\n",
      "Epoch 89/90\n",
      "1408/1408 [==============================] - 7s 5ms/step - loss: 0.0011 - acc: 7.1023e-04 - val_loss: 0.0023 - val_acc: 0.0000e+00\n",
      "Epoch 90/90\n",
      "1408/1408 [==============================] - 7s 5ms/step - loss: 0.0011 - acc: 7.1023e-04 - val_loss: 0.0069 - val_acc: 0.0000e+00\n"
     ]
    },
    {
     "data": {
      "text/plain": [
       "<keras.callbacks.History at 0x146a12c90>"
      ]
     },
     "execution_count": 200,
     "metadata": {},
     "output_type": "execute_result"
    }
   ],
   "source": [
    "model = build_model([5,window,1])\n",
    "model.fit(X_train,y_train,batch_size=512,epochs=90,validation_split=0.1,verbose=1)"
   ]
  },
  {
   "cell_type": "code",
   "execution_count": 201,
   "metadata": {},
   "outputs": [
    {
     "name": "stdout",
     "output_type": "stream",
     "text": [
      "(174, 1)\n"
     ]
    }
   ],
   "source": [
    "# print(X_test[-1])\n",
    "diff=[]\n",
    "ratio=[]\n",
    "p = model.predict(X_test)\n",
    "print (p.shape)\n",
    "# for each data index in test data\n",
    "for u in range(len(y_test)):\n",
    "    # pr = prediction day u\n",
    "    pr = p[u][0]\n",
    "    # (y_test day u / pr) - 1\n",
    "    ratio.append((y_test[u]/pr)-1)\n",
    "    diff.append(abs(y_test[u]- pr))\n",
    "    # print(u, y_test[u], pr, (y_test[u]/pr)-1, abs(y_test[u]- pr))\n",
    "    # Last day prediction\n",
    "    # print(p[-1]) "
   ]
  },
  {
   "cell_type": "code",
   "execution_count": 202,
   "metadata": {},
   "outputs": [],
   "source": [
    "df = pd.read_csv(\"data/prices-split-adjusted.csv\", index_col = 0)\n",
    "df[\"adj close\"] = df.close # Moving close to the last column\n",
    "df.drop(['close'], 1, inplace=True) # Moving close to the last column\n",
    "df = df[df.symbol == stock_interest]\n",
    "df.drop(['symbol'],1,inplace=True)\n",
    "\n",
    "# Bug fixed at here, please update the denormalize function to this one\n",
    "def denormalize(df, normalized_value): \n",
    "    df = df['adj close'].values.reshape(-1,1)\n",
    "    normalized_value = normalized_value.reshape(-1,1)\n",
    "    \n",
    "    #return df.shape, p.shape\n",
    "    min_max_scaler = preprocessing.MinMaxScaler()\n",
    "    a = min_max_scaler.fit_transform(df)\n",
    "    new = min_max_scaler.inverse_transform(normalized_value)\n",
    "    return new\n",
    "\n",
    "newp = denormalize(df, p)\n",
    "newy_test = denormalize(df, y_test)"
   ]
  },
  {
   "cell_type": "code",
   "execution_count": 203,
   "metadata": {},
   "outputs": [
    {
     "name": "stdout",
     "output_type": "stream",
     "text": [
      "Train Score: 0.00120 MSE (0.03 RMSE)\n",
      "Test Score: 0.01128 MSE (0.11 RMSE)\n"
     ]
    },
    {
     "data": {
      "text/plain": [
       "(0.0012012484083219934, 0.011281966756301364)"
      ]
     },
     "execution_count": 203,
     "metadata": {},
     "output_type": "execute_result"
    }
   ],
   "source": [
    "def model_score(model, X_train, y_train, X_test, y_test):\n",
    "    trainScore = model.evaluate(X_train, y_train, verbose=0)\n",
    "    print('Train Score: %.5f MSE (%.2f RMSE)' % (trainScore[0], math.sqrt(trainScore[0])))\n",
    "\n",
    "    testScore = model.evaluate(X_test, y_test, verbose=0)\n",
    "    print('Test Score: %.5f MSE (%.2f RMSE)' % (testScore[0], math.sqrt(testScore[0])))\n",
    "    return trainScore[0], testScore[0]\n",
    "\n",
    "\n",
    "model_score(model, X_train, y_train, X_test, y_test)\n",
    "\n"
   ]
  },
  {
   "cell_type": "code",
   "execution_count": 189,
   "metadata": {},
   "outputs": [
    {
     "data": {
      "image/png": "[encoded data removed]",
      "text/plain": [
       "<matplotlib.figure.Figure at 0x116b1c310>"
      ]
     },
     "metadata": {},
     "output_type": "display_data"
    }
   ],
   "source": [
    "import matplotlib.pyplot as plt2\n",
    "\n",
    "plt2.plot(newp,color='red', label='Prediction')\n",
    "plt2.plot(newy_test,color='blue', label='Actual')\n",
    "plt2.legend(loc='best')\n",
    "plt2.show()"
   ]
  },
  {
   "cell_type": "code",
   "execution_count": 188,
   "metadata": {},
   "outputs": [
    {
     "name": "stdout",
     "output_type": "stream",
     "text": [
      "AAPL\n"
     ]
    }
   ],
   "source": [
    "print stock_interest"
   ]
  },
  {
   "cell_type": "code",
   "execution_count": 52,
   "metadata": {},
   "outputs": [
    {
     "name": "stderr",
     "output_type": "stream",
     "text": [
      "/Library/Python/2.7/site-packages/statsmodels-0.6.1-py2.7-macosx-10.10-intel.egg/statsmodels/base/model.py:466: ConvergenceWarning: Maximum Likelihood optimization failed to converge. Check mle_retvals\n",
      "  \"Check mle_retvals\", ConvergenceWarning)\n",
      "/Library/Python/2.7/site-packages/statsmodels-0.6.1-py2.7-macosx-10.10-intel.egg/statsmodels/tsa/tsatools.py:492: RuntimeWarning: overflow encountered in exp\n",
      "  newparams = ((1-np.exp(-params))/\n",
      "/Library/Python/2.7/site-packages/statsmodels-0.6.1-py2.7-macosx-10.10-intel.egg/statsmodels/tsa/tsatools.py:493: RuntimeWarning: overflow encountered in exp\n",
      "  (1+np.exp(-params))).copy()\n",
      "/Library/Python/2.7/site-packages/statsmodels-0.6.1-py2.7-macosx-10.10-intel.egg/statsmodels/tsa/tsatools.py:493: RuntimeWarning: invalid value encountered in divide\n",
      "  (1+np.exp(-params))).copy()\n",
      "/Library/Python/2.7/site-packages/statsmodels-0.6.1-py2.7-macosx-10.10-intel.egg/statsmodels/tsa/tsatools.py:494: RuntimeWarning: overflow encountered in exp\n",
      "  tmp = ((1-np.exp(-params))/\n",
      "/Library/Python/2.7/site-packages/statsmodels-0.6.1-py2.7-macosx-10.10-intel.egg/statsmodels/tsa/tsatools.py:495: RuntimeWarning: overflow encountered in exp\n",
      "  (1+np.exp(-params))).copy()\n",
      "/Library/Python/2.7/site-packages/statsmodels-0.6.1-py2.7-macosx-10.10-intel.egg/statsmodels/tsa/tsatools.py:495: RuntimeWarning: invalid value encountered in divide\n",
      "  (1+np.exp(-params))).copy()\n",
      "/Library/Python/2.7/site-packages/statsmodels-0.6.1-py2.7-macosx-10.10-intel.egg/statsmodels/tsa/tsatools.py:536: RuntimeWarning: overflow encountered in exp\n",
      "  newparams = ((1-np.exp(-params))/(1+np.exp(-params))).copy()\n",
      "/Library/Python/2.7/site-packages/statsmodels-0.6.1-py2.7-macosx-10.10-intel.egg/statsmodels/tsa/tsatools.py:536: RuntimeWarning: invalid value encountered in divide\n",
      "  newparams = ((1-np.exp(-params))/(1+np.exp(-params))).copy()\n",
      "/Library/Python/2.7/site-packages/statsmodels-0.6.1-py2.7-macosx-10.10-intel.egg/statsmodels/tsa/tsatools.py:537: RuntimeWarning: overflow encountered in exp\n",
      "  tmp = ((1-np.exp(-params))/(1+np.exp(-params))).copy()\n",
      "/Library/Python/2.7/site-packages/statsmodels-0.6.1-py2.7-macosx-10.10-intel.egg/statsmodels/tsa/tsatools.py:537: RuntimeWarning: invalid value encountered in divide\n",
      "  tmp = ((1-np.exp(-params))/(1+np.exp(-params))).copy()\n",
      "/Library/Python/2.7/site-packages/statsmodels-0.6.1-py2.7-macosx-10.10-intel.egg/statsmodels/base/model.py:466: ConvergenceWarning: Maximum Likelihood optimization failed to converge. Check mle_retvals\n",
      "  \"Check mle_retvals\", ConvergenceWarning)\n",
      "/Library/Python/2.7/site-packages/statsmodels-0.6.1-py2.7-macosx-10.10-intel.egg/statsmodels/base/model.py:466: ConvergenceWarning: Maximum Likelihood optimization failed to converge. Check mle_retvals\n",
      "  \"Check mle_retvals\", ConvergenceWarning)\n",
      "/Library/Python/2.7/site-packages/statsmodels-0.6.1-py2.7-macosx-10.10-intel.egg/statsmodels/base/model.py:466: ConvergenceWarning: Maximum Likelihood optimization failed to converge. Check mle_retvals\n",
      "  \"Check mle_retvals\", ConvergenceWarning)\n"
     ]
    },
    {
     "name": "stdout",
     "output_type": "stream",
     "text": [
      "(1, 0)\n",
      "(1, 0)\n"
     ]
    }
   ],
   "source": [
    "import statsmodels.api as sm\n",
    "import statsmodels.api as sm\n",
    "res = sm.tsa.arma_order_select_ic(y_train, ic=['aic', 'bic'], trend='nc')\n",
    "print res.aic_min_order\n",
    "print res.bic_min_order"
   ]
  },
  {
   "cell_type": "code",
   "execution_count": null,
   "metadata": {},
   "outputs": [],
   "source": []
  },
  {
   "cell_type": "code",
   "execution_count": 117,
   "metadata": {},
   "outputs": [
    {
     "name": "stdout",
     "output_type": "stream",
     "text": [
      "(1565,)\n",
      "(174,)\n"
     ]
    }
   ],
   "source": [
    "print y_train.shape\n",
    "print y_test.shape\n",
    "y_all = list(y_train).append(list(y_test))"
   ]
  },
  {
   "cell_type": "code",
   "execution_count": 132,
   "metadata": {},
   "outputs": [
    {
     "data": {
      "image/png": "[encoded data removed]",
      "text/plain": [
       "<matplotlib.figure.Figure at 0x12df40550>"
      ]
     },
     "metadata": {},
     "output_type": "display_data"
    }
   ],
   "source": [
    "# print list(y_train)\n",
    "y_all = np.zeros(1565+174)\n",
    "y_all[:1565] = y_train\n",
    "y_all[1565:] = y_test\n",
    "plt2.plot(y_all)\n",
    "plt2.show()"
   ]
  },
  {
   "cell_type": "code",
   "execution_count": 150,
   "metadata": {},
   "outputs": [
    {
     "name": "stderr",
     "output_type": "stream",
     "text": [
      "/Library/Python/2.7/site-packages/statsmodels-0.6.1-py2.7-macosx-10.10-intel.egg/statsmodels/base/model.py:466: ConvergenceWarning: Maximum Likelihood optimization failed to converge. Check mle_retvals\n",
      "  \"Check mle_retvals\", ConvergenceWarning)\n"
     ]
    },
    {
     "data": {
      "image/png": "[encoded data removed]",
      "text/plain": [
       "<matplotlib.figure.Figure at 0x12d1e0090>"
      ]
     },
     "metadata": {},
     "output_type": "display_data"
    }
   ],
   "source": [
    "from statsmodels.tsa.arima_model import ARMA\n",
    "my_order = res.aic_min_order\n",
    "arma_model = ARMA(y_train,(3,2),freq = 'Q').fit()\n",
    "arma_y = arma_model.predict(start = 1565,end = 1565+174,dynamic=True)\n",
    "\n",
    "# arma_y = arma_model.predict(start = 4,end = 1700)\n",
    "plt2.figure(2)\n",
    "plt2.plot(arma_y,color='blue', label='ARMA Prediction')\n",
    "plt2.plot(y_train,color='red', label='Actual')\n",
    "plt2.legend(loc='best')\n",
    "plt2.show()"
   ]
  },
  {
   "cell_type": "code",
   "execution_count": 151,
   "metadata": {},
   "outputs": [
    {
     "data": {
      "image/png": "[encoded data removed]",
      "text/plain": [
       "<matplotlib.figure.Figure at 0x12cd19710>"
      ]
     },
     "metadata": {},
     "output_type": "display_data"
    }
   ],
   "source": [
    "# arma_model.fit()\n",
    "# arma_y = arma_model.predict(start = 1,end = 1700,exog = y_train)\n",
    "arma_pred = denormalize(df, arma_y)\n",
    "# import matplotlib.pyplot as plt2\n",
    "\n",
    "plt2.plot(newp,color='red', label='LSTM Prediction')\n",
    "plt2.plot(newy_test,color='blue', label='Actual')\n",
    "plt2.plot(arma_pred,color='green', label='ARMA Prediction')\n",
    "plt2.legend(loc='best')\n",
    "plt2.show()"
   ]
  },
  {
   "cell_type": "code",
   "execution_count": 96,
   "metadata": {},
   "outputs": [
    {
     "name": "stdout",
     "output_type": "stream",
     "text": [
      "174\n",
      "175\n",
      "[ 0.84139051  0.8410993   0.84080829  0.84051748  0.84022687  0.83993647\n",
      "  0.83964626  0.83935626  0.83906646  0.83877686]\n",
      "[ 0.87076446  0.88249493  0.8969774   0.89946115  0.90919449  0.92196531\n",
      "  0.90068618  0.89857168  0.90942946]\n",
      "[ 0.07582908  0.07959922  0.08142161  0.0839044   0.08224082  0.08387095\n",
      "  0.08112903  0.08796707  0.08538401  0.08957211]\n",
      "1565\n"
     ]
    },
    {
     "data": {
      "image/png": "[encoded data removed]",
      "text/plain": [
       "<matplotlib.figure.Figure at 0x12a1c3910>"
      ]
     },
     "metadata": {},
     "output_type": "display_data"
    }
   ],
   "source": [
    "print len(y_test)\n",
    "print len(arma_y)\n",
    "print arma_y[:10]\n",
    "print y_train[-10:-1]\n",
    "print y_train[:10]\n",
    "print len(y_train)\n",
    "plt2.figure(2)\n",
    "plt2.plot(arma_y,color='blue', label='ARMA Prediction')\n",
    "plt2.plot(y_train[:157],color='red', label='Actual')\n",
    "plt2.legend(loc='best')\n",
    "plt2.show()\n",
    "                "
   ]
  },
  {
   "cell_type": "code",
   "execution_count": null,
   "metadata": {},
   "outputs": [],
   "source": []
  }
 ],
 "metadata": {
  "kernelspec": {
   "display_name": "Python 2",
   "language": "python",
   "name": "python2"
  },
  "language_info": {
   "codemirror_mode": {
    "name": "ipython",
    "version": 2
   },
   "file_extension": ".py",
   "mimetype": "text/x-python",
   "name": "python",
   "nbconvert_exporter": "python",
   "pygments_lexer": "ipython2",
   "version": "2.7.12"
  }
 },
 "nbformat": 4,
 "nbformat_minor": 2
}
